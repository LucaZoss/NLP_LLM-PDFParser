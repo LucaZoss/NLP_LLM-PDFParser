{
 "cells": [
  {
   "cell_type": "code",
   "execution_count": null,
   "metadata": {},
   "outputs": [],
   "source": [
    "# Load the environment variables from the .env file\n",
    "from dotenv import load_dotenv\n",
    "import os\n",
    "from azure.ai.formrecognizer import DocumentAnalysisClient\n",
    "from azure.core.credentials import AzureKeyCredential\n",
    "from pathlib import Path\n",
    "from typing import Dict\n",
    "\n",
    "env_path = Path(\n",
    "    '/Users/lucazosso/Desktop/IE_Course/Hackathon/openai_ocr/ATT85165.env')\n",
    "load_dotenv(dotenv_path=env_path)\n",
    "\n",
    "# Now you can load your environment variable\n",
    "\n",
    "key = os.getenv(\"AZURE_DOCUMENT_INTELLIGENCE_KEY\")\n",
    "endpoint = \"https://ocr-ie-hackathon.cognitiveservices.azure.com/\"\n",
    "client = DocumentAnalysisClient(endpoint, AzureKeyCredential(key))\n",
    "\n",
    "\n",
    "def pdf_text(file_path: str) -> str:\n",
    "    # Images PDF with text\n",
    "    with open(file_path, 'rb') as f:\n",
    "        # Async SDK call that \"reads\" the image\n",
    "        poller = client.begin_analyze_document(\n",
    "            model_id=\"prebuilt-read\", document=f)\n",
    "        result = poller.result()\n",
    "        print('Waiting for result...')\n",
    "    return result\n",
    "\n",
    "\n",
    "def texts_from_pdf(data_directory: Path) -> Dict[str, str]:\n",
    "    texts = {}\n",
    "    for file in os.listdir(data_directory):\n",
    "        if file.lower().endswith('.pdf'):\n",
    "            file_path = os.path.join(data_directory, file)\n",
    "\n",
    "            # logging\n",
    "            print(f\"Processing file: {file}\")\n",
    "            extracted_text = pdf_text(file_path)\n",
    "            # add the extracted text to the dictionary\n",
    "            texts[file] = extracted_text\n",
    "            print(f\"Extraction completed for {file}\")\n",
    "\n",
    "    print(\"All files processed.\")\n",
    "    return texts\n"
   ]
  },
  {
   "cell_type": "code",
   "execution_count": null,
   "metadata": {},
   "outputs": [],
   "source": [
    "data_directory = Path('/Users/lucazosso/Desktop/IE_Course/Hackathon/Looping_Legends/Test_Folder')\n",
    "extracted_texts = texts_from_pdf(data_directory)\n",
    "print(extracted_texts)"
   ]
  }
 ],
 "metadata": {
  "kernelspec": {
   "display_name": "base",
   "language": "python",
   "name": "python3"
  },
  "language_info": {
   "codemirror_mode": {
    "name": "ipython",
    "version": 3
   },
   "file_extension": ".py",
   "mimetype": "text/x-python",
   "name": "python",
   "nbconvert_exporter": "python",
   "pygments_lexer": "ipython3",
   "version": "3.8.18"
  }
 },
 "nbformat": 4,
 "nbformat_minor": 2
}
